{
 "cells": [
  {
   "cell_type": "markdown",
   "metadata": {},
   "source": [
    "## Observations and Insights "
   ]
  },
  {
   "cell_type": "markdown",
   "metadata": {},
   "source": []
  },
  {
   "cell_type": "code",
   "execution_count": 1,
   "metadata": {},
   "outputs": [],
   "source": [
    "# Dependencies and Setup\n",
    "import matplotlib.pyplot as plt\n",
    "import pandas as pd\n",
    "import scipy.stats as st\n",
    "import numpy as np\n",
    "\n",
    "# Study data files\n",
    "mouse_metadata_path = \"data/Mouse_metadata.csv\"\n",
    "study_results_path = \"data/Study_results.csv\"\n",
    "\n",
    "# Read the mouse data and the study results\n",
    "mouse_metadata = pd.read_csv(mouse_metadata_path)\n",
    "study_results = pd.read_csv(study_results_path)\n",
    "\n",
    "# Combine the data into a single dataset\n",
    "data_df = pd.merge(mouse_metadata, study_results, on = \"Mouse ID\")"
   ]
  },
  {
   "cell_type": "code",
   "execution_count": 6,
   "metadata": {},
   "outputs": [
    {
     "data": {
      "text/plain": [
       "249"
      ]
     },
     "execution_count": 6,
     "metadata": {},
     "output_type": "execute_result"
    }
   ],
   "source": [
    "# Checking the number of mice in the DataFrame.\n",
    "data_df['Mouse ID'].nunique()"
   ]
  },
  {
   "cell_type": "code",
   "execution_count": 7,
   "metadata": {},
   "outputs": [
    {
     "name": "stdout",
     "output_type": "stream",
     "text": [
      "    Mouse ID Drug Regimen     Sex  Age_months  Weight (g)  Timepoint  \\\n",
      "909     g989     Propriva  Female          21          26          0   \n",
      "\n",
      "     Tumor Volume (mm3)  Metastatic Sites  \n",
      "909                45.0                 0  \n"
     ]
    },
    {
     "data": {
      "text/html": [
       "<div>\n",
       "<style scoped>\n",
       "    .dataframe tbody tr th:only-of-type {\n",
       "        vertical-align: middle;\n",
       "    }\n",
       "\n",
       "    .dataframe tbody tr th {\n",
       "        vertical-align: top;\n",
       "    }\n",
       "\n",
       "    .dataframe thead th {\n",
       "        text-align: right;\n",
       "    }\n",
       "</style>\n",
       "<table border=\"1\" class=\"dataframe\">\n",
       "  <thead>\n",
       "    <tr style=\"text-align: right;\">\n",
       "      <th></th>\n",
       "      <th>Mouse ID</th>\n",
       "      <th>Drug Regimen</th>\n",
       "      <th>Sex</th>\n",
       "      <th>Age_months</th>\n",
       "      <th>Weight (g)</th>\n",
       "      <th>Timepoint</th>\n",
       "      <th>Tumor Volume (mm3)</th>\n",
       "      <th>Metastatic Sites</th>\n",
       "    </tr>\n",
       "  </thead>\n",
       "  <tbody>\n",
       "    <tr>\n",
       "      <th>908</th>\n",
       "      <td>g989</td>\n",
       "      <td>Propriva</td>\n",
       "      <td>Female</td>\n",
       "      <td>21</td>\n",
       "      <td>26</td>\n",
       "      <td>0</td>\n",
       "      <td>45.000000</td>\n",
       "      <td>0</td>\n",
       "    </tr>\n",
       "    <tr>\n",
       "      <th>909</th>\n",
       "      <td>g989</td>\n",
       "      <td>Propriva</td>\n",
       "      <td>Female</td>\n",
       "      <td>21</td>\n",
       "      <td>26</td>\n",
       "      <td>0</td>\n",
       "      <td>45.000000</td>\n",
       "      <td>0</td>\n",
       "    </tr>\n",
       "    <tr>\n",
       "      <th>910</th>\n",
       "      <td>g989</td>\n",
       "      <td>Propriva</td>\n",
       "      <td>Female</td>\n",
       "      <td>21</td>\n",
       "      <td>26</td>\n",
       "      <td>5</td>\n",
       "      <td>48.786801</td>\n",
       "      <td>0</td>\n",
       "    </tr>\n",
       "    <tr>\n",
       "      <th>911</th>\n",
       "      <td>g989</td>\n",
       "      <td>Propriva</td>\n",
       "      <td>Female</td>\n",
       "      <td>21</td>\n",
       "      <td>26</td>\n",
       "      <td>5</td>\n",
       "      <td>47.570392</td>\n",
       "      <td>0</td>\n",
       "    </tr>\n",
       "    <tr>\n",
       "      <th>912</th>\n",
       "      <td>g989</td>\n",
       "      <td>Propriva</td>\n",
       "      <td>Female</td>\n",
       "      <td>21</td>\n",
       "      <td>26</td>\n",
       "      <td>10</td>\n",
       "      <td>51.745156</td>\n",
       "      <td>0</td>\n",
       "    </tr>\n",
       "    <tr>\n",
       "      <th>913</th>\n",
       "      <td>g989</td>\n",
       "      <td>Propriva</td>\n",
       "      <td>Female</td>\n",
       "      <td>21</td>\n",
       "      <td>26</td>\n",
       "      <td>10</td>\n",
       "      <td>49.880528</td>\n",
       "      <td>0</td>\n",
       "    </tr>\n",
       "    <tr>\n",
       "      <th>914</th>\n",
       "      <td>g989</td>\n",
       "      <td>Propriva</td>\n",
       "      <td>Female</td>\n",
       "      <td>21</td>\n",
       "      <td>26</td>\n",
       "      <td>15</td>\n",
       "      <td>51.325852</td>\n",
       "      <td>1</td>\n",
       "    </tr>\n",
       "    <tr>\n",
       "      <th>915</th>\n",
       "      <td>g989</td>\n",
       "      <td>Propriva</td>\n",
       "      <td>Female</td>\n",
       "      <td>21</td>\n",
       "      <td>26</td>\n",
       "      <td>15</td>\n",
       "      <td>53.442020</td>\n",
       "      <td>0</td>\n",
       "    </tr>\n",
       "    <tr>\n",
       "      <th>916</th>\n",
       "      <td>g989</td>\n",
       "      <td>Propriva</td>\n",
       "      <td>Female</td>\n",
       "      <td>21</td>\n",
       "      <td>26</td>\n",
       "      <td>20</td>\n",
       "      <td>55.326122</td>\n",
       "      <td>1</td>\n",
       "    </tr>\n",
       "    <tr>\n",
       "      <th>917</th>\n",
       "      <td>g989</td>\n",
       "      <td>Propriva</td>\n",
       "      <td>Female</td>\n",
       "      <td>21</td>\n",
       "      <td>26</td>\n",
       "      <td>20</td>\n",
       "      <td>54.657650</td>\n",
       "      <td>1</td>\n",
       "    </tr>\n",
       "    <tr>\n",
       "      <th>918</th>\n",
       "      <td>g989</td>\n",
       "      <td>Propriva</td>\n",
       "      <td>Female</td>\n",
       "      <td>21</td>\n",
       "      <td>26</td>\n",
       "      <td>25</td>\n",
       "      <td>56.045564</td>\n",
       "      <td>1</td>\n",
       "    </tr>\n",
       "    <tr>\n",
       "      <th>919</th>\n",
       "      <td>g989</td>\n",
       "      <td>Propriva</td>\n",
       "      <td>Female</td>\n",
       "      <td>21</td>\n",
       "      <td>26</td>\n",
       "      <td>30</td>\n",
       "      <td>59.082294</td>\n",
       "      <td>1</td>\n",
       "    </tr>\n",
       "    <tr>\n",
       "      <th>920</th>\n",
       "      <td>g989</td>\n",
       "      <td>Propriva</td>\n",
       "      <td>Female</td>\n",
       "      <td>21</td>\n",
       "      <td>26</td>\n",
       "      <td>35</td>\n",
       "      <td>62.570880</td>\n",
       "      <td>2</td>\n",
       "    </tr>\n",
       "  </tbody>\n",
       "</table>\n",
       "</div>"
      ],
      "text/plain": [
       "    Mouse ID Drug Regimen     Sex  Age_months  Weight (g)  Timepoint  \\\n",
       "908     g989     Propriva  Female          21          26          0   \n",
       "909     g989     Propriva  Female          21          26          0   \n",
       "910     g989     Propriva  Female          21          26          5   \n",
       "911     g989     Propriva  Female          21          26          5   \n",
       "912     g989     Propriva  Female          21          26         10   \n",
       "913     g989     Propriva  Female          21          26         10   \n",
       "914     g989     Propriva  Female          21          26         15   \n",
       "915     g989     Propriva  Female          21          26         15   \n",
       "916     g989     Propriva  Female          21          26         20   \n",
       "917     g989     Propriva  Female          21          26         20   \n",
       "918     g989     Propriva  Female          21          26         25   \n",
       "919     g989     Propriva  Female          21          26         30   \n",
       "920     g989     Propriva  Female          21          26         35   \n",
       "\n",
       "     Tumor Volume (mm3)  Metastatic Sites  \n",
       "908           45.000000                 0  \n",
       "909           45.000000                 0  \n",
       "910           48.786801                 0  \n",
       "911           47.570392                 0  \n",
       "912           51.745156                 0  \n",
       "913           49.880528                 0  \n",
       "914           51.325852                 1  \n",
       "915           53.442020                 0  \n",
       "916           55.326122                 1  \n",
       "917           54.657650                 1  \n",
       "918           56.045564                 1  \n",
       "919           59.082294                 1  \n",
       "920           62.570880                 2  "
      ]
     },
     "execution_count": 7,
     "metadata": {},
     "output_type": "execute_result"
    }
   ],
   "source": [
    "# Optional: Get all the data for the duplicate mouse ID. \n",
    "\n",
    "    #create df with duplicate mouse ID info  ***using .loc[] and .duplicated() nested inside***\n",
    "duplicate_ID = data_df.loc[data_df.duplicated() == True, :]\n",
    "print(duplicate_ID)\n",
    "\n",
    "    #display df with all duplicated mouse ID info, \"g989\"  ***\"g989\" found with code above inside this cell**\n",
    "data_df[data_df[\"Mouse ID\"] == \"g989\"]"
   ]
  },
  {
   "cell_type": "code",
   "execution_count": 10,
   "metadata": {},
   "outputs": [],
   "source": [
    "# Create a clean DataFrame by dropping the duplicate mouse by its ID.\n",
    "    #g989 is the Mouse ID found in cell above. this is hard coded in dropping by 'Mouse ID'\n",
    "data_df = data_df[data_df['Mouse ID'] != \"g989\"]"
   ]
  },
  {
   "cell_type": "code",
   "execution_count": 11,
   "metadata": {},
   "outputs": [
    {
     "data": {
      "text/plain": [
       "248"
      ]
     },
     "execution_count": 11,
     "metadata": {},
     "output_type": "execute_result"
    }
   ],
   "source": [
    "# Checking the number of mice in the clean DataFrame.\n",
    "data_df['Mouse ID'].nunique()"
   ]
  },
  {
   "cell_type": "markdown",
   "metadata": {},
   "source": [
    "## Summary Statistics"
   ]
  },
  {
   "cell_type": "code",
   "execution_count": 12,
   "metadata": {},
   "outputs": [
    {
     "data": {
      "text/plain": [
       "0     248\n",
       "5     236\n",
       "10    221\n",
       "15    205\n",
       "20    193\n",
       "25    182\n",
       "30    170\n",
       "35    153\n",
       "40    142\n",
       "45    130\n",
       "Name: Timepoint, dtype: int64"
      ]
     },
     "execution_count": 12,
     "metadata": {},
     "output_type": "execute_result"
    }
   ],
   "source": [
    "data_df[\"Timepoint\"].value_counts()"
   ]
  },
  {
   "cell_type": "code",
   "execution_count": 13,
   "metadata": {},
   "outputs": [
    {
     "data": {
      "text/plain": [
       "Capomulin    230\n",
       "Ramicane     228\n",
       "Ketapril     188\n",
       "Naftisol     186\n",
       "Zoniferol    182\n",
       "Stelasyn     181\n",
       "Placebo      181\n",
       "Ceftamin     178\n",
       "Infubinol    178\n",
       "Propriva     148\n",
       "Name: Drug Regimen, dtype: int64"
      ]
     },
     "execution_count": 13,
     "metadata": {},
     "output_type": "execute_result"
    }
   ],
   "source": [
    "data_df[\"Drug Regimen\"].value_counts()"
   ]
  },
  {
   "cell_type": "code",
   "execution_count": 16,
   "metadata": {},
   "outputs": [
    {
     "data": {
      "text/html": [
       "<div>\n",
       "<style scoped>\n",
       "    .dataframe tbody tr th:only-of-type {\n",
       "        vertical-align: middle;\n",
       "    }\n",
       "\n",
       "    .dataframe tbody tr th {\n",
       "        vertical-align: top;\n",
       "    }\n",
       "\n",
       "    .dataframe thead th {\n",
       "        text-align: right;\n",
       "    }\n",
       "</style>\n",
       "<table border=\"1\" class=\"dataframe\">\n",
       "  <thead>\n",
       "    <tr style=\"text-align: right;\">\n",
       "      <th></th>\n",
       "      <th>Mean</th>\n",
       "      <th>Median</th>\n",
       "      <th>Varianve</th>\n",
       "      <th>Standard Var</th>\n",
       "      <th>Standard Error</th>\n",
       "    </tr>\n",
       "    <tr>\n",
       "      <th>Drug Regimen</th>\n",
       "      <th></th>\n",
       "      <th></th>\n",
       "      <th></th>\n",
       "      <th></th>\n",
       "      <th></th>\n",
       "    </tr>\n",
       "  </thead>\n",
       "  <tbody>\n",
       "    <tr>\n",
       "      <th>Capomulin</th>\n",
       "      <td>40.675741</td>\n",
       "      <td>41.557809</td>\n",
       "      <td>24.947764</td>\n",
       "      <td>4.994774</td>\n",
       "      <td>0.329346</td>\n",
       "    </tr>\n",
       "    <tr>\n",
       "      <th>Ceftamin</th>\n",
       "      <td>52.591172</td>\n",
       "      <td>51.776157</td>\n",
       "      <td>39.290177</td>\n",
       "      <td>6.268188</td>\n",
       "      <td>0.469821</td>\n",
       "    </tr>\n",
       "    <tr>\n",
       "      <th>Infubinol</th>\n",
       "      <td>52.884795</td>\n",
       "      <td>51.820584</td>\n",
       "      <td>43.128684</td>\n",
       "      <td>6.567243</td>\n",
       "      <td>0.492236</td>\n",
       "    </tr>\n",
       "    <tr>\n",
       "      <th>Ketapril</th>\n",
       "      <td>55.235638</td>\n",
       "      <td>53.698743</td>\n",
       "      <td>68.553577</td>\n",
       "      <td>8.279709</td>\n",
       "      <td>0.603860</td>\n",
       "    </tr>\n",
       "    <tr>\n",
       "      <th>Naftisol</th>\n",
       "      <td>54.331565</td>\n",
       "      <td>52.509285</td>\n",
       "      <td>66.173479</td>\n",
       "      <td>8.134708</td>\n",
       "      <td>0.596466</td>\n",
       "    </tr>\n",
       "    <tr>\n",
       "      <th>Placebo</th>\n",
       "      <td>54.033581</td>\n",
       "      <td>52.288934</td>\n",
       "      <td>61.168083</td>\n",
       "      <td>7.821003</td>\n",
       "      <td>0.581331</td>\n",
       "    </tr>\n",
       "    <tr>\n",
       "      <th>Propriva</th>\n",
       "      <td>52.320930</td>\n",
       "      <td>50.446266</td>\n",
       "      <td>43.852013</td>\n",
       "      <td>6.622085</td>\n",
       "      <td>0.544332</td>\n",
       "    </tr>\n",
       "    <tr>\n",
       "      <th>Ramicane</th>\n",
       "      <td>40.216745</td>\n",
       "      <td>40.673236</td>\n",
       "      <td>23.486704</td>\n",
       "      <td>4.846308</td>\n",
       "      <td>0.320955</td>\n",
       "    </tr>\n",
       "    <tr>\n",
       "      <th>Stelasyn</th>\n",
       "      <td>54.233149</td>\n",
       "      <td>52.431737</td>\n",
       "      <td>59.450562</td>\n",
       "      <td>7.710419</td>\n",
       "      <td>0.573111</td>\n",
       "    </tr>\n",
       "    <tr>\n",
       "      <th>Zoniferol</th>\n",
       "      <td>53.236507</td>\n",
       "      <td>51.818479</td>\n",
       "      <td>48.533355</td>\n",
       "      <td>6.966589</td>\n",
       "      <td>0.516398</td>\n",
       "    </tr>\n",
       "  </tbody>\n",
       "</table>\n",
       "</div>"
      ],
      "text/plain": [
       "                   Mean     Median   Varianve  Standard Var  Standard Error\n",
       "Drug Regimen                                                               \n",
       "Capomulin     40.675741  41.557809  24.947764      4.994774        0.329346\n",
       "Ceftamin      52.591172  51.776157  39.290177      6.268188        0.469821\n",
       "Infubinol     52.884795  51.820584  43.128684      6.567243        0.492236\n",
       "Ketapril      55.235638  53.698743  68.553577      8.279709        0.603860\n",
       "Naftisol      54.331565  52.509285  66.173479      8.134708        0.596466\n",
       "Placebo       54.033581  52.288934  61.168083      7.821003        0.581331\n",
       "Propriva      52.320930  50.446266  43.852013      6.622085        0.544332\n",
       "Ramicane      40.216745  40.673236  23.486704      4.846308        0.320955\n",
       "Stelasyn      54.233149  52.431737  59.450562      7.710419        0.573111\n",
       "Zoniferol     53.236507  51.818479  48.533355      6.966589        0.516398"
      ]
     },
     "execution_count": 16,
     "metadata": {},
     "output_type": "execute_result"
    }
   ],
   "source": [
    "# Generate a summary statistics table:\n",
    "\n",
    "##old code##\n",
    "\n",
    "#mean, median, variance, SD, SEM of the tumor volume for each regimen\n",
    "# #capomulin\n",
    "# Capomulin_df = data_df.loc[data_df[\"Drug Regimen\"] == \"Capomulin\", :]\n",
    "# #ramicane\n",
    "# Ramicane_df = data_df.loc[data_df[\"Drug Regimen\"] == \"Ramicane\", :]\n",
    "# #ketapril\n",
    "# Ketapril_df = data_df.loc[data_df[\"Drug Regimen\"] == \"Ketapril\", :]\n",
    "# #zoniferol\n",
    "# Zoniferol_df = data_df.loc[data_df[\"Drug Regimen\"] == \"Zoniferol\", :]\n",
    "# #placebo\n",
    "# Placebo_df = data_df.loc[data_df[\"Drug Regimen\"] == \"Placebo\", :]\n",
    "# #stelasyn\n",
    "# Stelasyn_df = data_df.loc[data_df[\"Drug Regimen\"] == \"Stelasyn\", :]\n",
    "# #ceftamin\n",
    "# Ceftamin_df = data_df.loc[data_df[\"Drug Regimen\"] == \"Ceftamin\", :]\n",
    "# #infubinol\n",
    "# Infubinol_df = data_df.loc[data_df[\"Drug Regimen\"] == \"Infubinol\", :]\n",
    "# #propriva\n",
    "# Propriva_df = data_df.loc[data_df[\"Drug Regimen\"] == \"Propriva\", :]\n",
    "\n",
    "#stats summary df\n",
    "# stat_dict = ({\"Drug Regimen\": [\"Capomulin\", \"Ramicane\", \"Ketapril\", \"Zoniferol\", \"Placebo\", \"Stelasyn\", \"Ceftamin\",\"Infubinol\", \"Probriva\"],\n",
    "#             \"Mean\": [Capomulin_df[\"Tumor Volume (mm3)\"].mean(), Ramicane_df[\"Tumor Volume (mm3)\"].mean(), Ketapril_df[\"Tumor Volume (mm3)\"].mean(), Zoniferol_df[\"Tumor Volume (mm3)\"].mean(), Placebo_df[\"Tumor Volume (mm3)\"].mean(), Stelasyn_df[\"Tumor Volume (mm3)\"].mean(), Ceftamin_df[\"Tumor Volume (mm3)\"].mean(), Infubinol_df[\"Tumor Volume (mm3)\"].mean(), Propriva_df[\"Tumor Volume (mm3)\"].mean()],\n",
    "#             \"Median\": [Capomulin_df[\"Tumor Volume (mm3)\"].median(), Ramicane_df[\"Tumor Volume (mm3)\"].median(), Ketapril_df[\"Tumor Volume (mm3)\"].median(), Zoniferol_df[\"Tumor Volume (mm3)\"].median(), Placebo_df[\"Tumor Volume (mm3)\"].median(), Stelasyn_df[\"Tumor Volume (mm3)\"].median(), Ceftamin_df[\"Tumor Volume (mm3)\"].median(), Infubinol_df[\"Tumor Volume (mm3)\"].median(), Propriva_df[\"Tumor Volume (mm3)\"].median()],\n",
    "#             \"Variance\": [Capomulin_df[\"Tumor Volume (mm3)\"].var(), Ramicane_df[\"Tumor Volume (mm3)\"].var(), Ketapril_df[\"Tumor Volume (mm3)\"].var(), Zoniferol_df[\"Tumor Volume (mm3)\"].var(), Placebo_df[\"Tumor Volume (mm3)\"].var(), Stelasyn_df[\"Tumor Volume (mm3)\"].var(), Ceftamin_df[\"Tumor Volume (mm3)\"].var(), Infubinol_df[\"Tumor Volume (mm3)\"].var(), Propriva_df[\"Tumor Volume (mm3)\"].var()],\n",
    "#             \"SD\": [Capomulin_df[\"Tumor Volume (mm3)\"].std(), Ramicane_df[\"Tumor Volume (mm3)\"].std(), Ketapril_df[\"Tumor Volume (mm3)\"].std(), Zoniferol_df[\"Tumor Volume (mm3)\"].std(), Placebo_df[\"Tumor Volume (mm3)\"].std(), Stelasyn_df[\"Tumor Volume (mm3)\"].std(), Ceftamin_df[\"Tumor Volume (mm3)\"].std(), Infubinol_df[\"Tumor Volume (mm3)\"].std(), Propriva_df[\"Tumor Volume (mm3)\"].std()],\n",
    "#             \"SEM\": [Capomulin_df[\"Tumor Volume (mm3)\"].sem(), Ramicane_df[\"Tumor Volume (mm3)\"].sem(), Ketapril_df[\"Tumor Volume (mm3)\"].sem(), Zoniferol_df[\"Tumor Volume (mm3)\"].sem(), Placebo_df[\"Tumor Volume (mm3)\"].sem(), Stelasyn_df[\"Tumor Volume (mm3)\"].sem(), Ceftamin_df[\"Tumor Volume (mm3)\"].sem(), Infubinol_df[\"Tumor Volume (mm3)\"].sem(), Propriva_df[\"Tumor Volume (mm3)\"].sem()]})\n",
    "# stat_df = pd.DataFrame(stat_dict)\n",
    "# sat_df = stat_df.groupby(\"Drug Regimen\")\n",
    "# stat_df\n",
    "\n",
    "##new code##\n",
    "\n",
    "#groupby and df formatting\n",
    "drug_df = data_df.groupby([\"Drug Regimen\"])\n",
    "\n",
    "t_mean = drug_df['Tumor Volume (mm3)'].mean()\n",
    "t_median = drug_df['Tumor Volume (mm3)'].median()\n",
    "t_var = drug_df['Tumor Volume (mm3)'].var()\n",
    "t_sd  = drug_df['Tumor Volume (mm3)'].std()\n",
    "t_sem = drug_df['Tumor Volume (mm3)'].sem()\n",
    "\n",
    "\n",
    "drug_df = pd.DataFrame({\"Mean\": t_mean,\n",
    "                       \"Median\": t_median,\n",
    "                       \"Varianve\": t_var,\n",
    "                       \"Standard Var\": t_sd,\n",
    "                       \"Standard Error\": t_sem})\n",
    "drug_df"
   ]
  },
  {
   "cell_type": "code",
   "execution_count": null,
   "metadata": {
    "scrolled": true
   },
   "outputs": [],
   "source": [
    "# Generate a summary statistics table:\n",
    "#mean, median, variance, standard deviation, and SEM of the tumor volume for each regimen"
   ]
  },
  {
   "cell_type": "markdown",
   "metadata": {},
   "source": [
    "## Bar Plots"
   ]
  },
  {
   "cell_type": "code",
   "execution_count": null,
   "metadata": {},
   "outputs": [],
   "source": [
    "#pandas\n",
    "# Generate a bar plot showing the number of mice per time point for each treatment throughout the course of the study using pandas.\n",
    "\n",
    "\n",
    "\n",
    "\n",
    "\n"
   ]
  },
  {
   "cell_type": "code",
   "execution_count": 42,
   "metadata": {},
   "outputs": [
    {
     "data": {
      "text/plain": [
       "Text(0, 0.5, 'Number of Data Points')"
      ]
     },
     "execution_count": 42,
     "metadata": {},
     "output_type": "execute_result"
    },
    {
     "data": {
      "image/png": "[encoded data removed]",
      "text/plain": [
       "<Figure size 432x288 with 1 Axes>"
      ]
     },
     "metadata": {
      "needs_background": "light"
     },
     "output_type": "display_data"
    }
   ],
   "source": [
    "#pylpot\n",
    "# Generate a bar plot showing the number of mice per time point for each treatment throughout the course of the study using pyplot.\n",
    "#set x axis\n",
    "x_axis = ['Capomulin', 'Ramicane', 'Ketapril', 'Naftisol', 'Zoniferol',\n",
    "          'Stelasyn', 'Placebo', 'Ceftamin', 'Infubinol', 'Propriva']\n",
    "#create drug count variables\n",
    "capcount = data_df.loc[data_df[\"Drug Regimen\"]==\"Capomulin\",\"Mouse ID\"].count()\n",
    "ramcount = data_df.loc[data_df[\"Drug Regimen\"]==\"Ramicane\",\"Mouse ID\"].count()\n",
    "ketcount = data_df.loc[data_df[\"Drug Regimen\"]==\"Ketapril\",\"Mouse ID\"].count()\n",
    "nafcount = data_df.loc[data_df[\"Drug Regimen\"]==\"Naftisol\",\"Mouse ID\"].count()\n",
    "zoncount = data_df.loc[data_df[\"Drug Regimen\"]==\"Zoniferol\",\"Mouse ID\"].count()\n",
    "stelcount = data_df.loc[data_df[\"Drug Regimen\"]==\"Stelasyn\",\"Mouse ID\"].count()\n",
    "placcount = data_df.loc[data_df[\"Drug Regimen\"]==\"Placebo\",\"Mouse ID\"].count()\n",
    "ceftcount = data_df.loc[data_df[\"Drug Regimen\"]==\"Ceftamin\",\"Mouse ID\"].count()\n",
    "infcount = data_df.loc[data_df[\"Drug Regimen\"]==\"Infubinol\",\"Mouse ID\"].count()\n",
    "procount = data_df.loc[data_df[\"Drug Regimen\"]==\"Propriva\",\"Mouse ID\"].count()\n",
    "#set y axis\n",
    "y_axis = [capcount, ramcount, ketcount, nafcount, zoncount,\n",
    "          stelcount, placcount, ceftcount, infcount, procount]\n",
    "#plot a bar graph\n",
    "plt.bar(x_axis, y_axis, color='b', alpha=0.5, align='center')\n",
    "#display\n",
    "plt.xticks(rotation='vertical')\n",
    "plt.title(\"Total Mouse Count\")\n",
    "plt.xlabel(\"Drug Regimen\")\n",
    "plt.ylabel(\"Number of Data Points\")"
   ]
  },
  {
   "cell_type": "markdown",
   "metadata": {},
   "source": [
    "## Pie Plots"
   ]
  },
  {
   "cell_type": "code",
   "execution_count": null,
   "metadata": {},
   "outputs": [],
   "source": [
    "# Generate a pie plot showing the distribution of female versus male mice using pandas"
   ]
  },
  {
   "cell_type": "code",
   "execution_count": 48,
   "metadata": {},
   "outputs": [
    {
     "data": {
      "text/plain": [
       "Text(0.0, 1.0, 'Sex')"
      ]
     },
     "execution_count": 48,
     "metadata": {},
     "output_type": "execute_result"
    },
    {
     "data": {
      "image/png": "[encoded data removed]",
      "text/plain": [
       "<Figure size 432x288 with 1 Axes>"
      ]
     },
     "metadata": {},
     "output_type": "display_data"
    }
   ],
   "source": [
    "# Generate a pie plot showing the distribution of female versus male mice using pyplot\n",
    "#pyplot\n",
    "male = data_df.loc[data_df[\"Sex\"] == \"Male\",'Mouse ID'].count()\n",
    "female = data_df.loc[data_df[\"Sex\"] == \"Female\",'Mouse ID'].count()\n",
    "labels = \"males\",\"females\"\n",
    "#plot pie chart\n",
    "plt.pie([male,female],labels = labels,autopct='%1.1f%%')\n",
    "plt.title(\"Sex\", loc = \"left\")"
   ]
  },
  {
   "cell_type": "markdown",
   "metadata": {},
   "source": [
    "## Quartiles, Outliers and Boxplots"
   ]
  },
  {
   "cell_type": "code",
   "execution_count": null,
   "metadata": {},
   "outputs": [],
   "source": [
    "# Calculate the final tumor volume of each mouse across four of the most promising treatment regimens. Calculate the IQR and quantitatively determine if there are any potential outliers.\n",
    "\n",
    "\n",
    "\n",
    "\n"
   ]
  },
  {
   "cell_type": "code",
   "execution_count": null,
   "metadata": {},
   "outputs": [],
   "source": [
    "# Generate a box plot of the final tumor volume of each mouse across four regimens of interest"
   ]
  },
  {
   "cell_type": "markdown",
   "metadata": {},
   "source": [
    "## Line and Scatter Plots"
   ]
  },
  {
   "cell_type": "code",
   "execution_count": null,
   "metadata": {},
   "outputs": [],
   "source": [
    "# Generate a line plot of time point versus tumor volume for a mouse treated with Capomulin\n"
   ]
  },
  {
   "cell_type": "code",
   "execution_count": null,
   "metadata": {},
   "outputs": [],
   "source": [
    "# Generate a scatter plot of mouse weight versus average tumor volume for the Capomulin regimen\n",
    "\n"
   ]
  },
  {
   "cell_type": "markdown",
   "metadata": {},
   "source": [
    "## Correlation and Regression"
   ]
  },
  {
   "cell_type": "code",
   "execution_count": null,
   "metadata": {},
   "outputs": [],
   "source": [
    "# Calculate the correlation coefficient and linear regression model \n",
    "# for mouse weight and average tumor volume for the Capomulin regimen\n"
   ]
  },
  {
   "cell_type": "code",
   "execution_count": null,
   "metadata": {},
   "outputs": [],
   "source": []
  }
 ],
 "metadata": {
  "anaconda-cloud": {},
  "kernelspec": {
   "display_name": "Python 3",
   "language": "python",
   "name": "python3"
  },
  "language_info": {
   "codemirror_mode": {
    "name": "ipython",
    "version": 3
   },
   "file_extension": ".py",
   "mimetype": "text/x-python",
   "name": "python",
   "nbconvert_exporter": "python",
   "pygments_lexer": "ipython3",
   "version": "3.6.10"
  }
 },
 "nbformat": 4,
 "nbformat_minor": 4
}
